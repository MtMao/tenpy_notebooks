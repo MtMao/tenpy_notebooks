{
 "cells": [
  {
   "cell_type": "markdown",
   "metadata": {},
   "source": [
    "# Template\n",
    "\n",
    "This notebook serves just as a template for setting up new examples."
   ]
  },
  {
   "cell_type": "markdown",
   "metadata": {},
   "source": [
    "Please follow these guidelines:\n",
    "\n",
    "- [ ] Choose the (beggining of the) filename such that the order of the included examples makes somewhat sense and the basic examples come first.\n",
    "- [ ] Include a tilte at the top of the notebook to make sure it can be included into the documentation.\n",
    "- [ ] Include the output such that others don't need to rerun everything to see it.\n",
    "- [ ] Before saving, \"Restart Kernel and Run All Cells\" to ensure that everything works properly.\n",
    "- [ ] Add a summary of what is shown in the example at the top, if this seems useful/necessary.\n",
    "- [ ] Remove this comment"
   ]
  },
  {
   "cell_type": "code",
   "execution_count": 1,
   "metadata": {},
   "outputs": [],
   "source": [
    "import numpy as np\n",
    "import scipy\n",
    "import matplotlib.pyplot as plt"
   ]
  },
  {
   "cell_type": "code",
   "execution_count": 4,
   "metadata": {},
   "outputs": [],
   "source": [
    "import tenpy\n",
    "import tenpy.linalg.np_conserved as npc\n",
    "from tenpy.algorithms import tebd\n",
    "from tenpy.networks.mps import MPS"
   ]
  },
  {
   "cell_type": "code",
   "execution_count": 5,
   "metadata": {},
   "outputs": [
    {
     "name": "stdout",
     "output_type": "stream",
     "text": [
      "tenpy 0.7.1.dev25+3adac35 (compiled from git rev. 3adac357e004e239847ad1c44b21e92d8f8ba246),\n",
      "git revision 3adac357e004e239847ad1c44b21e92d8f8ba246 using\n",
      "python 3.8.1 | packaged by conda-forge | (default, Jan 29 2020, 14:55:04) \n",
      "[GCC 7.3.0]\n",
      "numpy 1.18.1, scipy 1.4.1\n"
     ]
    }
   ],
   "source": [
    "tenpy.show_config()  # example code: check if we use the compiled version"
   ]
  }
 ],
 "metadata": {
  "kernelspec": {
   "display_name": "Python 3",
   "language": "python",
   "name": "python3"
  },
  "language_info": {
   "codemirror_mode": {
    "name": "ipython",
    "version": 3
   },
   "file_extension": ".py",
   "mimetype": "text/x-python",
   "name": "python",
   "nbconvert_exporter": "python",
   "pygments_lexer": "ipython3",
   "version": "3.8.1"
  }
 },
 "nbformat": 4,
 "nbformat_minor": 4
}
